{
  "nbformat": 4,
  "nbformat_minor": 0,
  "metadata": {
    "colab": {
      "provenance": []
    },
    "kernelspec": {
      "name": "python3",
      "display_name": "Python 3"
    },
    "language_info": {
      "name": "python"
    }
  },
  "cells": [
    {
      "cell_type": "code",
      "source": [
        "import pandas as pd\n",
        "\n",
        "# Read the data from the CSV file\n",
        "data = pd.read_csv(\"cybersecurity_attacks.csv\")\n",
        "\n",
        "# Replace non-numeric values with 0\n",
        "numeric_columns = ['Source Port', 'Destination Port', 'Packet Length', 'Anomaly Scores', 'Severity Level']\n",
        "for column in numeric_columns:\n",
        "    data[column] = pd.to_numeric(data[column], errors='coerce').fillna(0)\n",
        "\n",
        "# Split the data into features (X) and target variable (y)\n",
        "X = data.drop(columns=['Attack Type', 'Timestamp'])  # Excluding non-numeric and timestamp columns\n",
        "y = data['Attack Type']\n",
        "\n",
        "# Print the data types of all columns to ensure only numeric values are present\n",
        "print(X.dtypes)\n"
      ],
      "metadata": {
        "colab": {
          "base_uri": "https://localhost:8080/"
        },
        "id": "9hAI2NXB0ne5",
        "outputId": "568c766b-45bc-4416-ff7a-c7abe3d9e8b4"
      },
      "execution_count": 7,
      "outputs": [
        {
          "output_type": "stream",
          "name": "stdout",
          "text": [
            "Source IP Address          object\n",
            "Destination IP Address     object\n",
            "Source Port                 int64\n",
            "Destination Port            int64\n",
            "Protocol                   object\n",
            "Packet Length               int64\n",
            "Packet Type                object\n",
            "Traffic Type               object\n",
            "Payload Data               object\n",
            "Malware Indicators         object\n",
            "Anomaly Scores            float64\n",
            "Alerts/Warnings            object\n",
            "Attack Signature           object\n",
            "Action Taken               object\n",
            "Severity Level            float64\n",
            "User Information           object\n",
            "Device Information         object\n",
            "Network Segment            object\n",
            "Geo-location Data          object\n",
            "Proxy Information          object\n",
            "Firewall Logs              object\n",
            "IDS/IPS Alerts             object\n",
            "Log Source                 object\n",
            "dtype: object\n"
          ]
        }
      ]
    },
    {
      "cell_type": "code",
      "execution_count": 10,
      "metadata": {
        "colab": {
          "base_uri": "https://localhost:8080/"
        },
        "id": "pvYktSbfwOhD",
        "outputId": "50aa4ee4-3736-4aea-c504-ea40f05a19a3"
      },
      "outputs": [
        {
          "output_type": "stream",
          "name": "stdout",
          "text": [
            "Decision Trees Accuracy: 0.33275\n",
            "Random Forest Accuracy: 0.330875\n",
            "SVM Accuracy: 0.330125\n",
            "KNN Accuracy: 0.34125\n",
            "Logistic Regression Accuracy: 0.323375\n",
            "Gradient Boosting Accuracy: 0.33325\n",
            "Naive Bayes Accuracy: 0.329625\n",
            "Neural Networks Accuracy: 0.337125\n"
          ]
        }
      ],
      "source": [
        "import pandas as pd\n",
        "from sklearn.model_selection import train_test_split\n",
        "from sklearn.preprocessing import StandardScaler\n",
        "from sklearn.metrics import accuracy_score\n",
        "from sklearn.tree import DecisionTreeClassifier\n",
        "from sklearn.ensemble import RandomForestClassifier\n",
        "from sklearn.svm import SVC\n",
        "from sklearn.neighbors import KNeighborsClassifier\n",
        "from sklearn.linear_model import LogisticRegression\n",
        "from sklearn.ensemble import GradientBoostingClassifier\n",
        "from sklearn.naive_bayes import GaussianNB\n",
        "from sklearn.neural_network import MLPClassifier\n",
        "\n",
        "\n",
        "# Read the data from the CSV file\n",
        "data = pd.read_csv(\"cybersecurity_attacks.csv\")\n",
        "\n",
        "# Replace null values with a dummy value (e.g., -1)\n",
        "data.fillna(-1, inplace=True)\n",
        "\n",
        "# Select columns with numeric data types\n",
        "numeric_columns = data.select_dtypes(include=['int64', 'float64']).columns\n",
        "\n",
        "# Exclude 'Attack Type' from numeric columns\n",
        "numeric_columns = numeric_columns.drop('Attack Type', errors='ignore')\n",
        "\n",
        "# Split the data into features (X) and target variable (y)\n",
        "X = data[numeric_columns]\n",
        "y = data['Attack Type']\n",
        "\n",
        "# Split the data into training and testing sets\n",
        "X_train, X_test, y_train, y_test = train_test_split(X, y, test_size=0.2, random_state=42)\n",
        "\n",
        "# Preprocessing: Standardize features by removing the mean and scaling to unit variance\n",
        "scaler = StandardScaler()\n",
        "X_train_scaled = scaler.fit_transform(X_train)\n",
        "X_test_scaled = scaler.transform(X_test)\n",
        "\n",
        "# Machine Learning Techniques\n",
        "# 1. Decision Trees\n",
        "dt_classifier = DecisionTreeClassifier()\n",
        "dt_classifier.fit(X_train_scaled, y_train)\n",
        "dt_pred = dt_classifier.predict(X_test_scaled)\n",
        "dt_accuracy = accuracy_score(y_test, dt_pred)\n",
        "print(\"Decision Trees Accuracy:\", dt_accuracy)\n",
        "\n",
        "# 2. Random Forest\n",
        "rf_classifier = RandomForestClassifier()\n",
        "rf_classifier.fit(X_train_scaled, y_train)\n",
        "rf_pred = rf_classifier.predict(X_test_scaled)\n",
        "rf_accuracy = accuracy_score(y_test, rf_pred)\n",
        "print(\"Random Forest Accuracy:\", rf_accuracy)\n",
        "\n",
        "# 3. Support Vector Machines (SVM)\n",
        "svm_classifier = SVC()\n",
        "svm_classifier.fit(X_train_scaled, y_train)\n",
        "svm_pred = svm_classifier.predict(X_test_scaled)\n",
        "svm_accuracy = accuracy_score(y_test, svm_pred)\n",
        "print(\"SVM Accuracy:\", svm_accuracy)\n",
        "\n",
        "# 4. K-Nearest Neighbors (KNN)\n",
        "knn_classifier = KNeighborsClassifier()\n",
        "knn_classifier.fit(X_train_scaled, y_train)\n",
        "knn_pred = knn_classifier.predict(X_test_scaled)\n",
        "knn_accuracy = accuracy_score(y_test, knn_pred)\n",
        "print(\"KNN Accuracy:\", knn_accuracy)\n",
        "\n",
        "# 5. Logistic Regression\n",
        "lr_classifier = LogisticRegression()\n",
        "lr_classifier.fit(X_train_scaled, y_train)\n",
        "lr_pred = lr_classifier.predict(X_test_scaled)\n",
        "lr_accuracy = accuracy_score(y_test, lr_pred)\n",
        "print(\"Logistic Regression Accuracy:\", lr_accuracy)\n",
        "\n",
        "# 6. Gradient Boosting\n",
        "gb_classifier = GradientBoostingClassifier()\n",
        "gb_classifier.fit(X_train_scaled, y_train)\n",
        "gb_pred = gb_classifier.predict(X_test_scaled)\n",
        "gb_accuracy = accuracy_score(y_test, gb_pred)\n",
        "print(\"Gradient Boosting Accuracy:\", gb_accuracy)\n",
        "\n",
        "# 7. Naive Bayes\n",
        "nb_classifier = GaussianNB()\n",
        "nb_classifier.fit(X_train_scaled, y_train)\n",
        "nb_pred = nb_classifier.predict(X_test_scaled)\n",
        "nb_accuracy = accuracy_score(y_test, nb_pred)\n",
        "print(\"Naive Bayes Accuracy:\", nb_accuracy)\n",
        "\n",
        "# 8. Neural Networks\n",
        "nn_classifier = MLPClassifier()\n",
        "nn_classifier.fit(X_train_scaled, y_train)\n",
        "nn_pred = nn_classifier.predict(X_test_scaled)\n",
        "nn_accuracy = accuracy_score(y_test, nn_pred)\n",
        "print(\"Neural Networks Accuracy:\", nn_accuracy)"
      ]
    }
  ]
}